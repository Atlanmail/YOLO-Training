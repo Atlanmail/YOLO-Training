{
 "cells": [
  {
   "cell_type": "code",
   "execution_count": null,
   "metadata": {},
   "outputs": [],
   "source": [
    "import torch\n",
    "from torch import nn\n",
    "from torch.utils.data import DataLoader\n",
    "from torchvision import datasets\n",
    "from torchvision.transforms import ToTensor\n",
    "import numpy as np\n",
    "\n",
    "DEVICE = torch.accelerator.current_accelerator().type if torch.accelerator.is_available() else \"cpu\""
   ]
  },
  {
   "cell_type": "code",
   "execution_count": null,
   "metadata": {},
   "outputs": [],
   "source": [
    "class Config:\n",
    "    LEARNING_RATE = 2e-5\n",
    "    BATCH_SIZE = 16  # 64 in original paper but I don't have that much vram, grad accum?\n",
    "    WEIGHT_DECAY = 0\n",
    "    EPOCHS = 500#1000\n",
    "    NUM_WORKERS = 2\n",
    "    PIN_MEMORY = True\n",
    "    LOAD_MODEL = False\n",
    "    LOAD_MODEL_FILE = \n",
    "    IMG_DIR = \n",
    "    LABEL_DIR = "
   ]
  },
  {
   "cell_type": "code",
   "execution_count": null,
   "metadata": {},
   "outputs": [],
   "source": [
    "class YOLONetwork(nn.Module):\n",
    "    def __init__(self):\n",
    "        super().__init__()\n",
    "        self.flatten = nn.Flatten()\n",
    "        self.linear_relu_stack = nn.Sequential(\n",
    "            nn.Linear(28*28, 512),\n",
    "            nn.ReLU(),\n",
    "            nn.Linear(512, 512),\n",
    "            nn.ReLU(),\n",
    "            nn.Linear(512, 10),\n",
    "        )\n",
    "\n",
    "    def forward(self, x):\n",
    "        x = self.flatten(x)\n",
    "        logits = self.linear_relu_stack(x)\n",
    "        return logits\n"
   ]
  },
  {
   "cell_type": "code",
   "execution_count": null,
   "metadata": {},
   "outputs": [],
   "source": [
    "class Config:\n",
    "    LEARNING_RATE = 2e-5\n",
    "    BATCH_SIZE = 16  # 64 in original paper but I don't have that much vram, grad accum?\n",
    "    WEIGHT_DECAY = 0\n",
    "    EPOCHS = 500#1000\n",
    "    NUM_WORKERS = 2\n",
    "    PIN_MEMORY = True\n",
    "    LOAD_MODEL = False\n",
    "    LOAD_MODEL_FILE = \"overfit.pth.tar\"\n",
    "    IMG_DIR = \"/kaggle/input/pascalvoc-yolo/images\"\n",
    "    LABEL_DIR = \"/kaggle/input/pascalvoc-yolo/labels\""
   ]
  },
  {
   "cell_type": "code",
   "execution_count": null,
   "metadata": {},
   "outputs": [],
   "source": [
    "def set_seed(seed):\n",
    "    random.seed(seed)\n",
    "    np.random.seed(seed)\n",
    "    torch.manual_seed(seed)\n",
    "    torch.cuda.manual_seed_all(seed)\n",
    "set_seed(0)"
   ]
  }
 ],
 "metadata": {
  "kernelspec": {
   "display_name": ".venv",
   "language": "python",
   "name": "python3"
  },
  "language_info": {
   "name": "python",
   "version": "3.12.0"
  }
 },
 "nbformat": 4,
 "nbformat_minor": 2
}
